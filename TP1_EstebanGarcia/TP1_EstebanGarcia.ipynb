{
  "nbformat": 4,
  "nbformat_minor": 0,
  "metadata": {
    "colab": {
      "name": "EstebanGarcia_TP1.ipynb",
      "provenance": [],
      "collapsed_sections": []
    },
    "kernelspec": {
      "name": "python3",
      "display_name": "Python 3"
    }
  },
  "cells": [
    {
      "cell_type": "markdown",
      "metadata": {
        "id": "PHwyNPYqKgkO",
        "colab_type": "text"
      },
      "source": [
        "**Trabajo Práctico 1**\n",
        "\n",
        "**Presentado por Esteban García Solís**"
      ]
    },
    {
      "cell_type": "markdown",
      "metadata": {
        "id": "z8eEL7j6JsBV",
        "colab_type": "text"
      },
      "source": [
        "> 1) Implemente la función calcularTrazaMatriz la cual calcule la traza de una matriz usando únicamente operaciones básicas en pytorch (multiplicación, multiplicación por elemento, matriz identidad, etc.), prescindiendo de estructuras de repetición como el for el while."
      ]
    },
    {
      "cell_type": "code",
      "metadata": {
        "id": "Mdyvh-P2Jlls",
        "colab_type": "code",
        "colab": {
          "base_uri": "https://localhost:8080/",
          "height": 204
        },
        "outputId": "932e266a-9d1a-442a-845c-f3fbcf9ecef1"
      },
      "source": [
        "import torch \n",
        "import numpy as np\n",
        "\n",
        "def trace(A):\n",
        "  return (A * torch.eye(A.shape[0])).sum()\n",
        "\n",
        "A = torch.tensor([[2.0, 9.0, 3.0],\n",
        "                  [2.0, -5.0, 4.0],\n",
        "                  [3.0, 7.0, 6.0]])\n",
        "\n",
        "B = torch.tensor([[1.0, 7.0, 1.0],\n",
        "                  [0.0, 2.0, -4.0],\n",
        "                  [3.0, 8.0, 3.0]])\n",
        "\n",
        "\n",
        "print(\"Matrix: \\n{}\\nTrace:{}\".format(A, trace(A)))\n",
        "print(\"\\nMatrix: \\n{}\\nTrace:{}\".format(B, trace(B)))\n"
      ],
      "execution_count": 1,
      "outputs": [
        {
          "output_type": "stream",
          "text": [
            "Matrix: \n",
            "tensor([[ 2.,  9.,  3.],\n",
            "        [ 2., -5.,  4.],\n",
            "        [ 3.,  7.,  6.]])\n",
            "Trace:3.0\n",
            "\n",
            "Matrix: \n",
            "tensor([[ 1.,  7.,  1.],\n",
            "        [ 0.,  2., -4.],\n",
            "        [ 3.,  8.,  3.]])\n",
            "Trace:6.0\n"
          ],
          "name": "stdout"
        }
      ]
    },
    {
      "cell_type": "markdown",
      "metadata": {
        "id": "YMl3gYxczXxs",
        "colab_type": "text"
      },
      "source": [
        "> 4) Muestre con un ejemplo numérico que para un vector $\\overrightarrow{x}\\in\\mathbb{R}^{n}$ y una matriz simétrica $A\\in\\mathbb{R}^{n\\times n}$ que:$\\left(\\vec{x}^{T}\\,A\\,\\vec{x}\\right)^{T}=\\vec{x}^{T}\\,A\\,\\vec{x}$\n",
        "\n",
        ">> a) Incluya el código en Pytorch que permita corroborar tal igualdad para cualquier matriz simétrica A y vector $\\overrightarrow{x}\\in\\mathbb{R}^{n}$, generado aleatoriamente. Recuerde que a partir de cualquier matriz cuadrada A generada aleatoriamente puede calcularse una matriz simétrica, según lo discutido en clase. "
      ]
    },
    {
      "cell_type": "code",
      "metadata": {
        "id": "2Ele14MHz1VC",
        "colab_type": "code",
        "colab": {
          "base_uri": "https://localhost:8080/",
          "height": 170
        },
        "outputId": "cfef9b53-f684-433a-e5e7-e49b98db857d"
      },
      "source": [
        "def symmetric(X):\n",
        "  return 0.5 * (X + torch.transpose(X, 0 ,1))\n",
        "\n",
        "def isSymmetric(X):\n",
        "  return torch.equal(X, torch.transpose(X, 0 ,1))\n",
        "\n",
        "def test(n):\n",
        "  A = torch.rand(n, n)\n",
        "  S = symmetric(A)\n",
        "  x = torch.rand(n, 1)\n",
        "\n",
        "  A1 = (x.transpose(0, 1).mm(A).mm(x)).transpose(0,1)\n",
        "  A2 = x.transpose(0, 1).mm(A).mm(x)\n",
        "\n",
        "  print(\"A=\",A)\n",
        "  print(\"x=\",x)\n",
        "  print(\"(xT A x)T=\", A1)\n",
        "  print(\"xT A x=\", A2)\n",
        "\n",
        "  print(\"Equal? \", torch.equal(A1, A2))\n",
        "\n",
        "test(3)"
      ],
      "execution_count": 2,
      "outputs": [
        {
          "output_type": "stream",
          "text": [
            "A= tensor([[0.8695, 0.7860, 0.7581],\n",
            "        [0.8588, 0.6003, 0.9073],\n",
            "        [0.3219, 0.5903, 0.8861]])\n",
            "x= tensor([[0.5818],\n",
            "        [0.0579],\n",
            "        [0.9836]])\n",
            "(xT A x)T= tensor([[1.9122]])\n",
            "xT A x= tensor([[1.9122]])\n",
            "Equal?  True\n"
          ],
          "name": "stdout"
        }
      ]
    },
    {
      "cell_type": "markdown",
      "metadata": {
        "id": "zht9uch3RLI6",
        "colab_type": "text"
      },
      "source": [
        "> 8) La Matriz de covarianza (ver colab)\n",
        ">> a) Escriba la función en Pytorch sin usar estructuras de repetición for o while, usando únicamente las funciones para cálculo de vector medio, y multiplicaciones matriciales. Documente su uso con el ejemplo descrito en este documento."
      ]
    },
    {
      "cell_type": "code",
      "metadata": {
        "id": "qwZ1rNnYO_uD",
        "colab_type": "code",
        "colab": {
          "base_uri": "https://localhost:8080/",
          "height": 136
        },
        "outputId": "27025fcf-b465-4184-f01f-dc269fd1225b"
      },
      "source": [
        "h1 = torch.tensor([2.0,   4.0,  6.0,  8.0])\n",
        "h2 = torch.tensor([4.0,   8.0, 12.0, 16.0])\n",
        "h3 = torch.tensor([12.0, 10.0,  5.0,  9.0])\n",
        "\n",
        "A = torch.stack((h1, h2, h3))\n",
        "\n",
        "def covar(A):\n",
        "  A = A.transpose(0, 1)\n",
        "  ones = torch.ones(A.shape[0], A.shape[0])\n",
        "  B = A - ones.mm(A) * 1/A.shape[0]\n",
        "  return (B.transpose(0, 1).mm(B)) /A.shape[1]\n",
        "\n",
        "print(\"A=\", A)\n",
        "print(\"A Covariance: \\n\", covar(A))"
      ],
      "execution_count": 3,
      "outputs": [
        {
          "output_type": "stream",
          "text": [
            "A= tensor([[ 2.,  4.,  6.,  8.],\n",
            "        [ 4.,  8., 12., 16.],\n",
            "        [12., 10.,  5.,  9.]])\n",
            "A Covariance: \n",
            " tensor([[ 6.6667, 13.3333, -4.6667],\n",
            "        [13.3333, 26.6667, -9.3333],\n",
            "        [-4.6667, -9.3333,  8.6667]])\n"
          ],
          "name": "stdout"
        }
      ]
    }
  ]
}